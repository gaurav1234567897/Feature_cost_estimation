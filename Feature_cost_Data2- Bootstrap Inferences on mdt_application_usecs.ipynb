{
 "cells": [
  {
   "cell_type": "code",
   "execution_count": 1,
   "id": "17bbde97",
   "metadata": {},
   "outputs": [],
   "source": [
    "import pandas as pd\n",
    "import numpy as np\n",
    "import matplotlib.pyplot as plt\n",
    "%matplotlib inline\n",
    "import seaborn as sns\n",
    "import scipy\n",
    "from sklearn.utils import resample"
   ]
  },
  {
   "cell_type": "code",
   "execution_count": 2,
   "id": "77ba2e0c",
   "metadata": {},
   "outputs": [],
   "source": [
    "path = \"/Users/grai/Data_log/\"\n",
    "df_original = pd.read_csv(path+'ghost_data.csv.gz')"
   ]
  },
  {
   "cell_type": "code",
   "execution_count": 160,
   "id": "c52c91de",
   "metadata": {},
   "outputs": [
    {
     "data": {
      "text/plain": [
       "(5069268, 18)"
      ]
     },
     "execution_count": 160,
     "metadata": {},
     "output_type": "execute_result"
    }
   ],
   "source": [
    "df_original.shape"
   ]
  },
  {
   "cell_type": "code",
   "execution_count": 161,
   "id": "031759e1",
   "metadata": {
    "scrolled": true
   },
   "outputs": [
    {
     "data": {
      "text/html": [
       "<div>\n",
       "<style scoped>\n",
       "    .dataframe tbody tr th:only-of-type {\n",
       "        vertical-align: middle;\n",
       "    }\n",
       "\n",
       "    .dataframe tbody tr th {\n",
       "        vertical-align: top;\n",
       "    }\n",
       "\n",
       "    .dataframe thead th {\n",
       "        text-align: right;\n",
       "    }\n",
       "</style>\n",
       "<table border=\"1\" class=\"dataframe\">\n",
       "  <thead>\n",
       "    <tr style=\"text-align: right;\">\n",
       "      <th></th>\n",
       "      <th>timestamp</th>\n",
       "      <th>cp_code</th>\n",
       "      <th>request_id</th>\n",
       "      <th>obj_size</th>\n",
       "      <th>bytes_served</th>\n",
       "      <th>new_connection</th>\n",
       "      <th>origin_hit</th>\n",
       "      <th>system_buffer</th>\n",
       "      <th>hoc</th>\n",
       "      <th>gzip_unzip</th>\n",
       "      <th>ssl</th>\n",
       "      <th>cca_bbr</th>\n",
       "      <th>ocl</th>\n",
       "      <th>phtm_usecs</th>\n",
       "      <th>gzu_usecs</th>\n",
       "      <th>agg_flytes</th>\n",
       "      <th>cpu_flytes</th>\n",
       "      <th>mdt_application_usecs</th>\n",
       "    </tr>\n",
       "  </thead>\n",
       "  <tbody>\n",
       "    <tr>\n",
       "      <th>0</th>\n",
       "      <td>1.626074e+09</td>\n",
       "      <td>111</td>\n",
       "      <td>13</td>\n",
       "      <td>16097</td>\n",
       "      <td>16097</td>\n",
       "      <td>1</td>\n",
       "      <td>0</td>\n",
       "      <td>0</td>\n",
       "      <td>0</td>\n",
       "      <td>0</td>\n",
       "      <td>1</td>\n",
       "      <td>1</td>\n",
       "      <td>0</td>\n",
       "      <td>0</td>\n",
       "      <td>0</td>\n",
       "      <td>0</td>\n",
       "      <td>0</td>\n",
       "      <td>0</td>\n",
       "    </tr>\n",
       "    <tr>\n",
       "      <th>1</th>\n",
       "      <td>1.626074e+09</td>\n",
       "      <td>111</td>\n",
       "      <td>21</td>\n",
       "      <td>27194</td>\n",
       "      <td>27194</td>\n",
       "      <td>1</td>\n",
       "      <td>0</td>\n",
       "      <td>0</td>\n",
       "      <td>0</td>\n",
       "      <td>0</td>\n",
       "      <td>1</td>\n",
       "      <td>1</td>\n",
       "      <td>0</td>\n",
       "      <td>0</td>\n",
       "      <td>0</td>\n",
       "      <td>0</td>\n",
       "      <td>0</td>\n",
       "      <td>0</td>\n",
       "    </tr>\n",
       "    <tr>\n",
       "      <th>2</th>\n",
       "      <td>1.626074e+09</td>\n",
       "      <td>111</td>\n",
       "      <td>30</td>\n",
       "      <td>5719</td>\n",
       "      <td>5719</td>\n",
       "      <td>1</td>\n",
       "      <td>0</td>\n",
       "      <td>0</td>\n",
       "      <td>0</td>\n",
       "      <td>0</td>\n",
       "      <td>1</td>\n",
       "      <td>1</td>\n",
       "      <td>0</td>\n",
       "      <td>0</td>\n",
       "      <td>0</td>\n",
       "      <td>0</td>\n",
       "      <td>0</td>\n",
       "      <td>0</td>\n",
       "    </tr>\n",
       "    <tr>\n",
       "      <th>3</th>\n",
       "      <td>1.626074e+09</td>\n",
       "      <td>111</td>\n",
       "      <td>3e</td>\n",
       "      <td>786472</td>\n",
       "      <td>786472</td>\n",
       "      <td>1</td>\n",
       "      <td>0</td>\n",
       "      <td>0</td>\n",
       "      <td>0</td>\n",
       "      <td>0</td>\n",
       "      <td>1</td>\n",
       "      <td>1</td>\n",
       "      <td>0</td>\n",
       "      <td>30822</td>\n",
       "      <td>0</td>\n",
       "      <td>0</td>\n",
       "      <td>0</td>\n",
       "      <td>0</td>\n",
       "    </tr>\n",
       "    <tr>\n",
       "      <th>4</th>\n",
       "      <td>1.626074e+09</td>\n",
       "      <td>1</td>\n",
       "      <td>4a</td>\n",
       "      <td>102400</td>\n",
       "      <td>102400</td>\n",
       "      <td>1</td>\n",
       "      <td>1</td>\n",
       "      <td>0</td>\n",
       "      <td>0</td>\n",
       "      <td>1</td>\n",
       "      <td>0</td>\n",
       "      <td>1</td>\n",
       "      <td>497</td>\n",
       "      <td>5518</td>\n",
       "      <td>166</td>\n",
       "      <td>7337</td>\n",
       "      <td>82763</td>\n",
       "      <td>434</td>\n",
       "    </tr>\n",
       "  </tbody>\n",
       "</table>\n",
       "</div>"
      ],
      "text/plain": [
       "      timestamp  cp_code request_id  obj_size  bytes_served  new_connection  \\\n",
       "0  1.626074e+09      111         13     16097         16097               1   \n",
       "1  1.626074e+09      111         21     27194         27194               1   \n",
       "2  1.626074e+09      111         30      5719          5719               1   \n",
       "3  1.626074e+09      111         3e    786472        786472               1   \n",
       "4  1.626074e+09        1         4a    102400        102400               1   \n",
       "\n",
       "   origin_hit  system_buffer  hoc  gzip_unzip  ssl  cca_bbr  ocl  phtm_usecs  \\\n",
       "0           0              0    0           0    1        1    0           0   \n",
       "1           0              0    0           0    1        1    0           0   \n",
       "2           0              0    0           0    1        1    0           0   \n",
       "3           0              0    0           0    1        1    0       30822   \n",
       "4           1              0    0           1    0        1  497        5518   \n",
       "\n",
       "   gzu_usecs  agg_flytes  cpu_flytes  mdt_application_usecs  \n",
       "0          0           0           0                      0  \n",
       "1          0           0           0                      0  \n",
       "2          0           0           0                      0  \n",
       "3          0           0           0                      0  \n",
       "4        166        7337       82763                    434  "
      ]
     },
     "execution_count": 161,
     "metadata": {},
     "output_type": "execute_result"
    }
   ],
   "source": [
    "df_original.head()"
   ]
  },
  {
   "cell_type": "code",
   "execution_count": 162,
   "id": "70a80975",
   "metadata": {},
   "outputs": [],
   "source": [
    "df = df_original.copy()"
   ]
  },
  {
   "cell_type": "markdown",
   "id": "0b177bd3",
   "metadata": {},
   "source": [
    "# Bootstrapping the mdt_application_usecs"
   ]
  },
  {
   "cell_type": "code",
   "execution_count": 146,
   "id": "3497fd04",
   "metadata": {},
   "outputs": [],
   "source": [
    "mdt=np.zeros(10000000)\n",
    "for i in range(10000000):\n",
    "    df1= resample(df_original, replace=True, n_samples=20)\n",
    "    mdt[i]=(np.mean(df.mdt_application_usecs))"
   ]
  },
  {
   "cell_type": "code",
   "execution_count": 147,
   "id": "886b9126",
   "metadata": {},
   "outputs": [
    {
     "data": {
      "text/plain": [
       "(118.27499999999999, 148.875)"
      ]
     },
     "execution_count": 147,
     "metadata": {},
     "output_type": "execute_result"
    }
   ],
   "source": [
    "lim=outlier_limits(pd.Series(mdt))\n",
    "lim"
   ]
  },
  {
   "cell_type": "code",
   "execution_count": 148,
   "id": "6c5becec",
   "metadata": {},
   "outputs": [],
   "source": [
    "mdt=mdt[(mdt>=lim[0])&(mdt<=lim[1])]"
   ]
  },
  {
   "cell_type": "code",
   "execution_count": 151,
   "id": "c3db2ec4",
   "metadata": {},
   "outputs": [
    {
     "data": {
      "text/plain": [
       "(9593076,)"
      ]
     },
     "execution_count": 151,
     "metadata": {},
     "output_type": "execute_result"
    }
   ],
   "source": [
    "mdt.shape"
   ]
  },
  {
   "cell_type": "code",
   "execution_count": 152,
   "id": "47647c5b",
   "metadata": {},
   "outputs": [
    {
     "data": {
      "text/plain": [
       "<seaborn.axisgrid.FacetGrid at 0x7f909a449b50>"
      ]
     },
     "execution_count": 152,
     "metadata": {},
     "output_type": "execute_result"
    },
    {
     "data": {
      "text/plain": [
       "<Figure size 720x720 with 0 Axes>"
      ]
     },
     "metadata": {},
     "output_type": "display_data"
    },
    {
     "data": {
      "image/png": "[encoded data removed]",
      "text/plain": [
       "<Figure size 360x360 with 1 Axes>"
      ]
     },
     "metadata": {
      "needs_background": "light"
     },
     "output_type": "display_data"
    }
   ],
   "source": [
    "plt.figure(figsize=(10,10))\n",
    "sns.displot(mdt)"
   ]
  },
  {
   "cell_type": "code",
   "execution_count": 149,
   "id": "95489864",
   "metadata": {
    "scrolled": false
   },
   "outputs": [
    {
     "data": {
      "image/png": "[encoded data removed]",
      "text/plain": [
       "<Figure size 1080x504 with 2 Axes>"
      ]
     },
     "metadata": {
      "needs_background": "light"
     },
     "output_type": "display_data"
    }
   ],
   "source": [
    "diagnostic_plot(pd.Series(mdt))"
   ]
  },
  {
   "cell_type": "code",
   "execution_count": 156,
   "id": "2b531908",
   "metadata": {},
   "outputs": [
    {
     "data": {
      "text/plain": [
       "(77.5, 185.5)"
      ]
     },
     "execution_count": 156,
     "metadata": {},
     "output_type": "execute_result"
    }
   ],
   "source": [
    "lim=outlier_limits(df_original.mdt_application_usecs)\n",
    "lim"
   ]
  },
  {
   "cell_type": "code",
   "execution_count": 157,
   "id": "3de5db77",
   "metadata": {},
   "outputs": [],
   "source": [
    "mdt_original=df_original.mdt_application_usecs[(df_original.mdt_application_usecs>=lim[0])&(df_original.mdt_application_usecs<=lim[1])]"
   ]
  },
  {
   "cell_type": "code",
   "execution_count": 158,
   "id": "3be34085",
   "metadata": {},
   "outputs": [
    {
     "data": {
      "text/plain": [
       "<seaborn.axisgrid.FacetGrid at 0x7f902769e0d0>"
      ]
     },
     "execution_count": 158,
     "metadata": {},
     "output_type": "execute_result"
    },
    {
     "data": {
      "text/plain": [
       "<Figure size 720x720 with 0 Axes>"
      ]
     },
     "metadata": {},
     "output_type": "display_data"
    },
    {
     "data": {
      "image/png": "[encoded data removed]",
      "text/plain": [
       "<Figure size 360x360 with 1 Axes>"
      ]
     },
     "metadata": {
      "needs_background": "light"
     },
     "output_type": "display_data"
    }
   ],
   "source": [
    "plt.figure(figsize=(10,10))\n",
    "sns.displot(mdt_original)"
   ]
  },
  {
   "cell_type": "code",
   "execution_count": 159,
   "id": "30eead05",
   "metadata": {},
   "outputs": [
    {
     "data": {
      "image/png": "[encoded data removed]",
      "text/plain": [
       "<Figure size 1080x504 with 2 Axes>"
      ]
     },
     "metadata": {
      "needs_background": "light"
     },
     "output_type": "display_data"
    }
   ],
   "source": [
    "diagnostic_plot(pd.Series(mdt_original))"
   ]
  },
  {
   "cell_type": "markdown",
   "id": "29cdb6d2",
   "metadata": {},
   "source": [
    "# We can clearly see that the bootstrapping method is showing the clear parent distribution of the mdt_application_usecs and disturbances present in it is clearly visible as 2 distributions"
   ]
  },
  {
   "cell_type": "code",
   "execution_count": null,
   "id": "6ad10a1f",
   "metadata": {},
   "outputs": [],
   "source": []
  }
 ],
 "metadata": {
  "kernelspec": {
   "display_name": "Python 3",
   "language": "python",
   "name": "python3"
  },
  "language_info": {
   "codemirror_mode": {
    "name": "ipython",
    "version": 3
   },
   "file_extension": ".py",
   "mimetype": "text/x-python",
   "name": "python",
   "nbconvert_exporter": "python",
   "pygments_lexer": "ipython3",
   "version": "3.8.8"
  }
 },
 "nbformat": 4,
 "nbformat_minor": 5
}
